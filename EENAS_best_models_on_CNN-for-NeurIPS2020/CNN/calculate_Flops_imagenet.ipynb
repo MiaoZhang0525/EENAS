{
 "cells": [
  {
   "cell_type": "code",
   "execution_count": 1,
   "metadata": {},
   "outputs": [],
   "source": [
    "import os\n",
    "import sys\n",
    "import numpy as np\n",
    "import time\n",
    "import torch\n",
    "import utils\n",
    "import glob\n",
    "import random\n",
    "import logging\n",
    "import argparse\n",
    "import torch.nn as nn\n",
    "import genotypes\n",
    "import torch.utils\n",
    "import torchvision.datasets as dset\n",
    "import torchvision.transforms as transforms\n",
    "import torch.backends.cudnn as cudnn\n",
    "\n",
    "from torch.autograd import Variable\n",
    "from model import NetworkImageNet as Network\n",
    "\n",
    "from print_flops import *\n",
    "\n",
    "\n",
    "parser = argparse.ArgumentParser(\"imagenet\")\n",
    "parser.add_argument('--data', type=str, default='../data/imagenet/', help='location of the data corpus')\n",
    "parser.add_argument('--batch_size', type=int, default=128, help='batch size')\n",
    "parser.add_argument('--learning_rate', type=float, default=0.1, help='init learning rate')\n",
    "parser.add_argument('--momentum', type=float, default=0.9, help='momentum')\n",
    "parser.add_argument('--weight_decay', type=float, default=3e-5, help='weight decay')\n",
    "parser.add_argument('--report_freq', type=float, default=100, help='report frequency')\n",
    "parser.add_argument('--gpu', type=int, default=0, help='gpu device id')\n",
    "parser.add_argument('--epochs', type=int, default=250, help='num of training epochs')\n",
    "parser.add_argument('--init_channels', type=int, default=48, help='num of init channels')\n",
    "parser.add_argument('--layers', type=int, default=14, help='total number of layers')\n",
    "parser.add_argument('--auxiliary', action='store_true', default=False, help='use auxiliary tower')\n",
    "parser.add_argument('--auxiliary_weight', type=float, default=0.4, help='weight for auxiliary loss')\n",
    "parser.add_argument('--drop_path_prob', type=float, default=0, help='drop path probability')\n",
    "parser.add_argument('--save', type=str, default='EXP', help='experiment name')\n",
    "parser.add_argument('--seed', type=int, default=0, help='random seed')\n",
    "parser.add_argument('--arch', type=str, default='ENNAS', help='which architecture to use')\n",
    "parser.add_argument('--grad_clip', type=float, default=5., help='gradient clipping')\n",
    "parser.add_argument('--label_smooth', type=float, default=0.1, help='label smoothing')\n",
    "parser.add_argument('--gamma', type=float, default=0.97, help='learning rate decay')\n",
    "parser.add_argument('--decay_period', type=int, default=1, help='epochs between two learning rate decays')\n",
    "parser.add_argument('--parallel', action='store_true', default=False, help='data parallelism')\n",
    "args = parser.parse_args([])\n",
    "\n",
    "\n",
    "CLASSES = 1000"
   ]
  },
  {
   "cell_type": "code",
   "execution_count": 2,
   "metadata": {},
   "outputs": [
    {
     "name": "stdout",
     "output_type": "stream",
     "text": [
      "48 48 48\n",
      "48 192 48\n",
      "192 192 48\n",
      "192 192 48\n",
      "192 192 96\n",
      "192 384 96\n",
      "384 384 96\n",
      "384 384 96\n",
      "384 384 96\n",
      "384 384 192\n",
      "384 768 192\n",
      "768 768 192\n",
      "768 768 192\n",
      "768 768 192\n"
     ]
    }
   ],
   "source": [
    "if not torch.cuda.is_available():\n",
    "    logging.info('no gpu device available')\n",
    "    sys.exit(1)\n",
    "\n",
    "np.random.seed(args.seed)\n",
    "torch.cuda.set_device(args.gpu)\n",
    "cudnn.benchmark = True\n",
    "torch.manual_seed(args.seed)\n",
    "cudnn.enabled=True\n",
    "torch.cuda.manual_seed(args.seed)\n",
    "\n",
    "genotype = eval(\"genotypes.%s\" % args.arch)\n",
    "model = Network(args.init_channels, CLASSES, args.layers, args.auxiliary, genotype)\n",
    "model = model.cuda()"
   ]
  },
  {
   "cell_type": "code",
   "execution_count": 3,
   "metadata": {},
   "outputs": [
    {
     "name": "stdout",
     "output_type": "stream",
     "text": [
      "498.73444\n"
     ]
    }
   ],
   "source": [
    "model.drop_path_prob = args.drop_path_prob * 1 / args.epochs\n",
    "\n",
    "import copy\n",
    "shape=(1,3,224,224)\n",
    "model = copy.deepcopy( model )\n",
    "\n",
    "model = add_flops_counting_methods(model)\n",
    "model = model.cuda()\n",
    "model.eval()\n",
    "\n",
    "cache_inputs = torch.zeros(*shape).cuda()\n",
    "  #print_log('In the calculating function : cache input size : {:}'.format(cache_inputs.size()), log)\n",
    "_ = model(cache_inputs)\n",
    "FLOPs = compute_average_flops_cost( model ) / 1e6\n",
    "print(FLOPs)"
   ]
  },
  {
   "cell_type": "code",
   "execution_count": null,
   "metadata": {},
   "outputs": [],
   "source": []
  },
  {
   "cell_type": "code",
   "execution_count": null,
   "metadata": {},
   "outputs": [],
   "source": []
  }
 ],
 "metadata": {
  "kernelspec": {
   "display_name": "Python 3",
   "language": "python",
   "name": "python3"
  },
  "language_info": {
   "codemirror_mode": {
    "name": "ipython",
    "version": 3
   },
   "file_extension": ".py",
   "mimetype": "text/x-python",
   "name": "python",
   "nbconvert_exporter": "python",
   "pygments_lexer": "ipython3",
   "version": "3.6.8"
  }
 },
 "nbformat": 4,
 "nbformat_minor": 2
}
